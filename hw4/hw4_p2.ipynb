{
  "cells": [
    {
      "cell_type": "markdown",
      "metadata": {
        "id": "DgWlyYejDwBF"
      },
      "source": [
        "# Problem 2: Semantic Segmentaion\n",
        "In this part, you will design and implement your Convolutional Neural Networks to perform semantic segmentation on the Mini Facade dataset."
      ]
    },
    {
      "cell_type": "markdown",
      "metadata": {
        "id": "oFgib63vLvfU"
      },
      "source": [
        "## Setup\n",
        "First, we will install some required packages for this notebook and download the Mini Facade dataset. \n"
      ]
    },
    {
      "cell_type": "code",
      "execution_count": 11,
      "metadata": {
        "colab": {
          "base_uri": "https://localhost:8080/"
        },
        "id": "wDEtIQjnEWN5",
        "outputId": "dd3299d6-8cd6-4c4f-9622-83e7d33cdece"
      },
      "outputs": [
        {
          "output_type": "stream",
          "name": "stdout",
          "text": [
            "Looking in indexes: https://pypi.org/simple, https://us-python.pkg.dev/colab-wheels/public/simple/\n",
            "Requirement already satisfied: colormap in /usr/local/lib/python3.10/dist-packages (1.0.4)\n",
            "Requirement already satisfied: easydev in /usr/local/lib/python3.10/dist-packages (0.12.1)\n",
            "Requirement already satisfied: pypng in /usr/local/lib/python3.10/dist-packages (0.20220715.0)\n",
            "Requirement already satisfied: colorama in /usr/local/lib/python3.10/dist-packages (from easydev) (0.4.6)\n",
            "Requirement already satisfied: pexpect in /usr/local/lib/python3.10/dist-packages (from easydev) (4.8.0)\n",
            "Requirement already satisfied: colorlog in /usr/local/lib/python3.10/dist-packages (from easydev) (6.7.0)\n",
            "Requirement already satisfied: ptyprocess>=0.5 in /usr/local/lib/python3.10/dist-packages (from pexpect->easydev) (0.7.0)\n",
            "Downloading...\n",
            "From: https://drive.google.com/uc?id=1y9lO-_EDo_0MeUx5VJAUoS9nIoG45QSr\n",
            "To: /content/facades.zip\n",
            "100% 29.6M/29.6M [00:00<00:00, 45.4MB/s]\n",
            "Archive:  facades.zip\n",
            "replace __MACOSX/._facades? [y]es, [n]o, [A]ll, [N]one, [r]ename: "
          ]
        }
      ],
      "source": [
        "# install required packages and download the dataset\n",
        "!pip install colormap easydev pypng\n",
        "!gdown --fuzzy https://drive.google.com/file/d/1y9lO-_EDo_0MeUx5VJAUoS9nIoG45QSr/view?usp=share_link\n",
        "!unzip facades.zip"
      ]
    },
    {
      "cell_type": "code",
      "execution_count": 21,
      "metadata": {
        "id": "szOGZTMpDXFa"
      },
      "outputs": [],
      "source": [
        "import os\n",
        "import time\n",
        "import cv2\n",
        "import matplotlib.pyplot as plt\n",
        "import numpy as np\n",
        "import png\n",
        "import torch\n",
        "import torch.nn as nn\n",
        "import torch.optim as optim\n",
        "from torchsummary import summary\n",
        "from PIL import Image\n",
        "import torchvision\n",
        "from colormap.colors import Color, hex2rgb\n",
        "from sklearn.metrics import average_precision_score as ap_score\n",
        "from torch.utils.data import DataLoader\n",
        "from torchvision import datasets, models, transforms\n",
        "from torch.utils.data.dataset import Dataset\n",
        "from tqdm import tqdm"
      ]
    },
    {
      "cell_type": "code",
      "execution_count": 22,
      "metadata": {
        "id": "lZiuefySEJ6J"
      },
      "outputs": [],
      "source": [
        "if torch.cuda.is_available():\n",
        "    device = torch.device('cuda:0')\n",
        "else:\n",
        "    raise Exception(\"WARNING: Could not find GPU! Using CPU only. \\\n",
        "To enable GPU, please to go Edit > Notebook Settings > Hardware \\\n",
        "Accelerator and select GPU.\")"
      ]
    },
    {
      "cell_type": "markdown",
      "metadata": {
        "id": "RwWirxVjELJ2"
      },
      "source": [
        "## Dataset\n",
        "We will create a custom Dataset function for the Mini Facade dataset. You don't have to change anything here."
      ]
    },
    {
      "cell_type": "code",
      "execution_count": 23,
      "metadata": {
        "id": "zK6si5Kzp7cb"
      },
      "outputs": [],
      "source": [
        "class FacadeDataset(Dataset):\n",
        "  def __init__(self, flag, dataDir='./facades/', data_range=(0, 8), n_class=5, \n",
        "               onehot=False):\n",
        "    self.onehot = onehot\n",
        "    assert(flag in ['train', 'eval', 'test', 'test_dev', 'kaggle'])\n",
        "    print(\"load \"+ flag+\" dataset start\")\n",
        "    print(\"    from: %s\" % dataDir)\n",
        "    print(\"    range: [%d, %d)\" % (data_range[0], data_range[1]))\n",
        "    self.dataset = []\n",
        "    for i in range(data_range[0], data_range[1]):\n",
        "      img = Image.open(os.path.join(dataDir,flag,'eecs442_%04d.jpg' % i))\n",
        "\n",
        "      pngreader = png.Reader(filename=os.path.join(dataDir,flag,\n",
        "                                                   'eecs442_%04d.png' % i))\n",
        "      w,h,row,info = pngreader.read()\n",
        "      label = np.array(list(row)).astype('uint8')\n",
        "\n",
        "      # Normalize input image\n",
        "      img = np.asarray(img).astype(\"f\").transpose(2, 0, 1)/128.0-1.0\n",
        "      # Convert to n_class-dimensional onehot matrix\n",
        "      label_ = np.asarray(label)\n",
        "      label = np.zeros((n_class, img.shape[1], img.shape[2])).astype(\"i\")\n",
        "      for j in range(n_class):\n",
        "          label[j, :] = label_ == j\n",
        "      self.dataset.append((img, label))\n",
        "    print(\"load dataset done\")\n",
        "\n",
        "  def __len__(self):\n",
        "    return len(self.dataset)\n",
        "\n",
        "  def __getitem__(self, index):\n",
        "    img, label = self.dataset[index]\n",
        "    label = torch.FloatTensor(label)\n",
        "    if not self.onehot:\n",
        "      label = torch.argmax(label, dim=0)\n",
        "    else:\n",
        "      label = label.long()\n",
        "\n",
        "    return torch.FloatTensor(img), torch.LongTensor(label)"
      ]
    },
    {
      "cell_type": "markdown",
      "metadata": {
        "id": "ompM1vf2UmzS"
      },
      "source": [
        "Now, we will create a dataloader for the Mini Facade dataset. You have to play with the size of train-val split and adjust the batch sizes for the splits."
      ]
    },
    {
      "cell_type": "code",
      "execution_count": 25,
      "metadata": {
        "colab": {
          "base_uri": "https://localhost:8080/"
        },
        "id": "LjLnwnbOD285",
        "outputId": "af8c8eee-89f5-4e31-d82d-9f4308feb41c"
      },
      "outputs": [
        {
          "output_type": "stream",
          "name": "stdout",
          "text": [
            "load train dataset start\n",
            "    from: ./facades/\n",
            "    range: [0, 800)\n",
            "load dataset done\n",
            "load train dataset start\n",
            "    from: ./facades/\n",
            "    range: [800, 906)\n",
            "load dataset done\n",
            "load test_dev dataset start\n",
            "    from: ./facades/\n",
            "    range: [0, 114)\n",
            "load dataset done\n",
            "load test_dev dataset start\n",
            "    from: ./facades/\n",
            "    range: [0, 114)\n",
            "load dataset done\n"
          ]
        }
      ],
      "source": [
        "N_CLASS=5\n",
        "##############################################################################\n",
        "# TODO: Change data_range so that train_data and val_data splits the 906     #\n",
        "# samples under \"train\" folder. You can decide how to split.                 #\n",
        "#                                                                            # \n",
        "# TODO: Adjust batch_size for loaders                                        #\n",
        "##############################################################################\n",
        "train_data = FacadeDataset(flag='train', data_range=(0,800), onehot=False)\n",
        "train_loader = DataLoader(train_data, batch_size=32)\n",
        "val_data = FacadeDataset(flag='train', data_range=(800,906), onehot=False)\n",
        "val_loader = DataLoader(val_data, batch_size=32)\n",
        "##############################################################################\n",
        "#                             END OF YOUR CODE                               #\n",
        "##############################################################################\n",
        "test_data = FacadeDataset(flag='test_dev', data_range=(0,114), onehot=False)\n",
        "test_loader = DataLoader(test_data, batch_size=1)\n",
        "\n",
        "# ap_loader for calculating Average Precision\n",
        "ap_data = FacadeDataset(flag='test_dev', data_range=(0,114), onehot=True)\n",
        "ap_loader = DataLoader(ap_data, batch_size=1)"
      ]
    },
    {
      "cell_type": "markdown",
      "metadata": {
        "id": "-fU5kNVZFIpg"
      },
      "source": [
        "## Model\n",
        "Design and implement your Convolutional NeuralNetworks to perform semantic segmentation on the Mini Facade dataset. \n",
        "\n",
        "You can build a simple neural network based on the U-net [1]:\n",
        "1. Conv-ReLU-Conv-ReLU that goes from `3 -> 64 -> 64` ( H x W )\n",
        "2. Maxpool (`nn.MaxPool2d`) to reduce the size of the feature map by half ( H/2 x W/2 )\n",
        "3. Conv-ReLU-Conv-ReLU that goes from `64 -> 128 -> 128` ( H/2 x W/2 )\n",
        "4. Maxpool (`nn.MaxPool2d`) to reduce the size of the feature map by half ( H/4 x W/4 )\n",
        "5. Conv that goes from `128 -> 128` ( H/4 x W/4 )\n",
        "6. Upsample (`nn.Upsample`) to increase of size of the feature map by two ( H/2 x W/2 )\n",
        "6. Conv-ReLU-Conv-ReLU that goes from `128 -> 64 -> 64` ( H/2 x W/2 )\n",
        "7. Upsample (`nn.Upsample`) to increase of size of the feature map by two ( H x W )\n",
        "8. Conv-ReLU-Conv-ReLU that goes from `64 -> 64 -> 5` ( H x W )\n",
        "\n",
        "Be careful while choosing the kernel size, padding and stride in the convolution layer. You can compute the output shape after a convolution by using the formula:\n",
        "\n",
        "$$\n",
        "X_{out} = (X_{in} - K + 2P)/S +1\n",
        "$$\n",
        "\n",
        "Where, $X_{out}$ & $X_{in}$ are the output and input shape of the feature map and $K$, $P$ & $S$ are the kernel size, padding and stride repectively.\n",
        "\n",
        "[1] O. Ronneberger, P. Fischer, and T. Brox, “U-net:  Convolutional networks for biomedical image seg-mentation,”ArXiv, vol. abs/1505.04597, 2015"
      ]
    },
    {
      "cell_type": "code",
      "execution_count": 26,
      "metadata": {
        "id": "z0lZ1PvTFJme"
      },
      "outputs": [],
      "source": [
        "class Net(nn.Module):\n",
        "  def __init__(self):\n",
        "    super(Net, self).__init__()\n",
        "    self.n_class = N_CLASS\n",
        "    ########################################################################\n",
        "    # TODO: Implement a sematic segmentation model                         #\n",
        "    ########################################################################\n",
        "    self.layers = nn.Sequential(\n",
        "            # 1\n",
        "            nn.Conv2d(3, 64, 3, padding=1),\n",
        "            nn.ReLU(inplace=True),\n",
        "            nn.Conv2d(64, 64, 3, padding=1),\n",
        "            nn.ReLU(inplace=True),\n",
        "            # 2\n",
        "            nn.MaxPool2d(2, stride=2),\n",
        "            # 3\n",
        "            nn.Conv2d(64, 128, 3, padding=1),\n",
        "            nn.ReLU(inplace=True),\n",
        "            nn.Conv2d(128, 128, 3, padding=1),\n",
        "            nn.ReLU(inplace=True),\n",
        "            # 4\n",
        "            nn.MaxPool2d(2, stride=2),\n",
        "            # 5\n",
        "            nn.Conv2d(128, 128, 3, padding=1),\n",
        "            # 6\n",
        "            nn.Upsample(scale_factor=2, mode='bilinear', align_corners=True),\n",
        "            # 7\n",
        "            nn.Conv2d(128, 64, 3, padding=1),\n",
        "            nn.ReLU(inplace=True),\n",
        "            nn.Conv2d(64, 64, 3, padding=1),\n",
        "            nn.ReLU(inplace=True),\n",
        "            # 8\n",
        "            nn.Upsample(scale_factor=2, mode='bilinear', align_corners=True),\n",
        "            # 9\n",
        "            nn.Conv2d(64, 64, 3, padding=1),\n",
        "            nn.ReLU(inplace=True),\n",
        "            nn.Conv2d(64, self.n_class, 3, padding=1),\n",
        "            nn.ReLU(inplace=True)\n",
        "        )\n",
        "    ########################################################################\n",
        "    #                             END OF YOUR CODE                         #\n",
        "    ########################################################################\n",
        "\n",
        "  def forward(self, x):\n",
        "    ########################################################################\n",
        "    # TODO: Implement the forward pass                                     #\n",
        "    ########################################################################\n",
        "    x = self.layers(x)\n",
        "    ########################################################################\n",
        "    #                             END OF YOUR CODE                         #\n",
        "    ########################################################################\n",
        "    return x"
      ]
    },
    {
      "cell_type": "markdown",
      "metadata": {
        "id": "kyWQnSJ21Rxd"
      },
      "source": [
        "Ininitialize your model and look at the structure of your model, [torchsummary](https://github.com/sksq96/pytorch-summary) is a useful library to look at the computation graph of your model."
      ]
    },
    {
      "cell_type": "code",
      "execution_count": 27,
      "metadata": {
        "colab": {
          "base_uri": "https://localhost:8080/"
        },
        "id": "ssxWj9dA1SOb",
        "outputId": "11536842-aa7f-49ed-9592-c0f8eae6e583"
      },
      "outputs": [
        {
          "output_type": "stream",
          "name": "stdout",
          "text": [
            "Your network:\n",
            "----------------------------------------------------------------\n",
            "        Layer (type)               Output Shape         Param #\n",
            "================================================================\n",
            "            Conv2d-1         [-1, 64, 224, 224]           1,792\n",
            "              ReLU-2         [-1, 64, 224, 224]               0\n",
            "            Conv2d-3         [-1, 64, 224, 224]          36,928\n",
            "              ReLU-4         [-1, 64, 224, 224]               0\n",
            "         MaxPool2d-5         [-1, 64, 112, 112]               0\n",
            "            Conv2d-6        [-1, 128, 112, 112]          73,856\n",
            "              ReLU-7        [-1, 128, 112, 112]               0\n",
            "            Conv2d-8        [-1, 128, 112, 112]         147,584\n",
            "              ReLU-9        [-1, 128, 112, 112]               0\n",
            "        MaxPool2d-10          [-1, 128, 56, 56]               0\n",
            "           Conv2d-11          [-1, 128, 56, 56]         147,584\n",
            "         Upsample-12        [-1, 128, 112, 112]               0\n",
            "           Conv2d-13         [-1, 64, 112, 112]          73,792\n",
            "             ReLU-14         [-1, 64, 112, 112]               0\n",
            "           Conv2d-15         [-1, 64, 112, 112]          36,928\n",
            "             ReLU-16         [-1, 64, 112, 112]               0\n",
            "         Upsample-17         [-1, 64, 224, 224]               0\n",
            "           Conv2d-18         [-1, 64, 224, 224]          36,928\n",
            "             ReLU-19         [-1, 64, 224, 224]               0\n",
            "           Conv2d-20          [-1, 5, 224, 224]           2,885\n",
            "             ReLU-21          [-1, 5, 224, 224]               0\n",
            "================================================================\n",
            "Total params: 558,277\n",
            "Trainable params: 558,277\n",
            "Non-trainable params: 0\n",
            "----------------------------------------------------------------\n",
            "Input size (MB): 0.57\n",
            "Forward/backward pass size (MB): 273.33\n",
            "Params size (MB): 2.13\n",
            "Estimated Total Size (MB): 276.03\n",
            "----------------------------------------------------------------\n"
          ]
        }
      ],
      "source": [
        "name = 'starter_net'\n",
        "net = Net().to(device)\n",
        "# visualizing the model\n",
        "print('Your network:')\n",
        "summary(net, (3,224,224))"
      ]
    },
    {
      "cell_type": "markdown",
      "metadata": {
        "id": "XOPAI1wYFQxc"
      },
      "source": [
        "Once you have completed the model implementation in the cell above, run the cell below to load helper functions and train the model."
      ]
    },
    {
      "cell_type": "code",
      "execution_count": 28,
      "metadata": {
        "id": "QUXCW18nFK6p"
      },
      "outputs": [],
      "source": [
        "def save_label(label, path):\n",
        "  '''\n",
        "  Function for ploting labels.\n",
        "  '''\n",
        "  colormap = [\n",
        "      '#000000',\n",
        "      '#0080FF',\n",
        "      '#80FF80',\n",
        "      '#FF8000',\n",
        "      '#FF0000',\n",
        "  ]\n",
        "  assert(np.max(label)<len(colormap))\n",
        "  colors = [hex2rgb(color, normalise=False) for color in colormap]\n",
        "  w = png.Writer(label.shape[1], label.shape[0], palette=colors, bitdepth=4)\n",
        "  with open(path, 'wb') as f:\n",
        "      w.write(f, label)\n",
        "\n",
        "def train(trainloader, net, criterion, optimizer, device, epoch):\n",
        "  '''\n",
        "  Function for training.\n",
        "  '''\n",
        "  start = time.time()\n",
        "  running_loss = 0.0\n",
        "  cnt = 0\n",
        "  net = net.train()\n",
        "  for images, labels in tqdm(trainloader):\n",
        "    images = images.to(device)\n",
        "    labels = labels.to(device)\n",
        "    optimizer.zero_grad()\n",
        "    output = net(images)\n",
        "    loss = criterion(output, labels)\n",
        "    loss.backward()\n",
        "    optimizer.step()\n",
        "    running_loss += loss.item()\n",
        "    cnt += 1\n",
        "  end = time.time()\n",
        "  running_loss /= cnt\n",
        "  print('\\n [epoch %d] loss: %.3f elapsed time %.3f' %\n",
        "        (epoch, running_loss, end-start))\n",
        "  return running_loss\n",
        "\n",
        "def test(testloader, net, criterion, device):\n",
        "  '''\n",
        "  Function for testing.\n",
        "  '''\n",
        "  losses = 0.\n",
        "  cnt = 0\n",
        "  with torch.no_grad():\n",
        "    net = net.eval()\n",
        "    for images, labels in tqdm(testloader):\n",
        "      images = images.to(device)\n",
        "      labels = labels.to(device)\n",
        "      output = net(images)\n",
        "      loss = criterion(output, labels)\n",
        "      losses += loss.item()\n",
        "      cnt += 1\n",
        "  print('\\n',losses / cnt)\n",
        "  return (losses/cnt)\n",
        "\n",
        "\n",
        "def cal_AP(testloader, net, criterion, device):\n",
        "  '''\n",
        "  Calculate Average Precision\n",
        "  '''\n",
        "  losses = 0.\n",
        "  cnt = 0\n",
        "  with torch.no_grad():\n",
        "    net = net.eval()\n",
        "    preds = [[] for _ in range(5)]\n",
        "    heatmaps = [[] for _ in range(5)]\n",
        "    for images, labels in tqdm(testloader):\n",
        "      images = images.to(device)\n",
        "      labels = labels.to(device)\n",
        "      output = net(images).cpu().numpy()\n",
        "      for c in range(5):\n",
        "        preds[c].append(output[:, c].reshape(-1))\n",
        "        heatmaps[c].append(labels[:, c].cpu().numpy().reshape(-1))\n",
        "\n",
        "    aps = []\n",
        "    for c in range(5):\n",
        "      preds[c] = np.concatenate(preds[c])\n",
        "      heatmaps[c] = np.concatenate(heatmaps[c])\n",
        "      if heatmaps[c].max() == 0:\n",
        "        ap = float('nan')\n",
        "      else:\n",
        "        ap = ap_score(heatmaps[c], preds[c])\n",
        "        aps.append(ap)\n",
        "      print(\"AP = {}\".format(ap))\n",
        "    print(\"Average Precision (all classes) = {}\".format(np.mean(aps)))\n",
        "  return None\n",
        "\n",
        "\n",
        "def get_result(testloader, net, device, folder='output_train'):\n",
        "  result = []\n",
        "  cnt = 1\n",
        "  os.makedirs(folder, exist_ok=True)\n",
        "  with torch.no_grad():\n",
        "    net = net.eval()\n",
        "    cnt = 0\n",
        "    for images, labels in tqdm(testloader):\n",
        "      images = images.to(device)\n",
        "      labels = labels.to(device)\n",
        "      output = net(images)[0].cpu().numpy()\n",
        "      c, h, w = output.shape\n",
        "      assert(c == N_CLASS)\n",
        "      y = np.argmax(output, 0).astype('uint8')\n",
        "      gt = labels.cpu().data.numpy().squeeze(0).astype('uint8')\n",
        "      save_label(y, './{}/y{}.png'.format(folder, cnt))\n",
        "      save_label(gt, './{}/gt{}.png'.format(folder, cnt))\n",
        "      plt.imsave('./{}/x{}.png'.format(folder, cnt),\n",
        "                 ((images[0].cpu().data.numpy()+1)*128).astype(np.uint8).transpose(1,2,0))\n",
        "      cnt += 1\n",
        "\n",
        "def plot_hist(trn_hist, val_hist):\n",
        "    x = np.arange(len(trn_hist))\n",
        "    plt.figure()\n",
        "    plt.plot(x, trn_hist)\n",
        "    plt.plot(x, val_hist)\n",
        "    plt.legend(['Training', 'Validation'])\n",
        "    plt.xticks(x)\n",
        "    plt.xlabel('Epoch')\n",
        "    plt.ylabel('Loss')\n",
        "    plt.show()"
      ]
    },
    {
      "cell_type": "markdown",
      "metadata": {
        "id": "5dKfZ2SnWnut"
      },
      "source": [
        "Experiment with with different optimizers, parameters (such as learning rate) and number of epochs. We expect you to achieve **0.45 AP** on the test set"
      ]
    },
    {
      "cell_type": "code",
      "execution_count": 29,
      "metadata": {
        "colab": {
          "base_uri": "https://localhost:8080/",
          "height": 1000
        },
        "id": "Rh5n-zKMFViG",
        "outputId": "b863637b-ba8e-459d-b6d9-55a9d751607e"
      },
      "outputs": [
        {
          "metadata": {
            "tags": null
          },
          "name": "stdout",
          "output_type": "stream",
          "text": [
            "\n",
            "Start training\n",
            "-----------------Epoch = 1-----------------\n"
          ]
        },
        {
          "metadata": {
            "tags": null
          },
          "name": "stderr",
          "output_type": "stream",
          "text": [
            "100%|██████████| 25/25 [00:30<00:00,  1.20s/it]\n"
          ]
        },
        {
          "metadata": {
            "tags": null
          },
          "name": "stdout",
          "output_type": "stream",
          "text": [
            "\n",
            " [epoch 1] loss: 1.575 elapsed time 30.265\n",
            "Validation loss: \n"
          ]
        },
        {
          "metadata": {
            "tags": null
          },
          "name": "stderr",
          "output_type": "stream",
          "text": [
            "100%|██████████| 4/4 [00:03<00:00,  1.11it/s]\n"
          ]
        },
        {
          "metadata": {
            "tags": null
          },
          "name": "stdout",
          "output_type": "stream",
          "text": [
            "\n",
            " 1.5332879722118378\n",
            "-----------------Epoch = 2-----------------\n"
          ]
        },
        {
          "metadata": {
            "tags": null
          },
          "name": "stderr",
          "output_type": "stream",
          "text": [
            "100%|██████████| 25/25 [00:30<00:00,  1.21s/it]\n"
          ]
        },
        {
          "metadata": {
            "tags": null
          },
          "name": "stdout",
          "output_type": "stream",
          "text": [
            "\n",
            " [epoch 2] loss: 1.510 elapsed time 30.209\n",
            "Validation loss: \n"
          ]
        },
        {
          "metadata": {
            "tags": null
          },
          "name": "stderr",
          "output_type": "stream",
          "text": [
            "100%|██████████| 4/4 [00:02<00:00,  1.43it/s]\n"
          ]
        },
        {
          "metadata": {
            "tags": null
          },
          "name": "stdout",
          "output_type": "stream",
          "text": [
            "\n",
            " 1.4985466003417969\n",
            "-----------------Epoch = 3-----------------\n"
          ]
        },
        {
          "metadata": {
            "tags": null
          },
          "name": "stderr",
          "output_type": "stream",
          "text": [
            "100%|██████████| 25/25 [00:29<00:00,  1.18s/it]\n"
          ]
        },
        {
          "metadata": {
            "tags": null
          },
          "name": "stdout",
          "output_type": "stream",
          "text": [
            "\n",
            " [epoch 3] loss: 1.500 elapsed time 29.590\n",
            "Validation loss: \n"
          ]
        },
        {
          "metadata": {
            "tags": null
          },
          "name": "stderr",
          "output_type": "stream",
          "text": [
            "100%|██████████| 4/4 [00:03<00:00,  1.30it/s]\n"
          ]
        },
        {
          "metadata": {
            "tags": null
          },
          "name": "stdout",
          "output_type": "stream",
          "text": [
            "\n",
            " 1.4981330633163452\n",
            "-----------------Epoch = 4-----------------\n"
          ]
        },
        {
          "metadata": {
            "tags": null
          },
          "name": "stderr",
          "output_type": "stream",
          "text": [
            "100%|██████████| 25/25 [00:31<00:00,  1.25s/it]\n"
          ]
        },
        {
          "metadata": {
            "tags": null
          },
          "name": "stdout",
          "output_type": "stream",
          "text": [
            "\n",
            " [epoch 4] loss: 1.491 elapsed time 31.209\n",
            "Validation loss: \n"
          ]
        },
        {
          "metadata": {
            "tags": null
          },
          "name": "stderr",
          "output_type": "stream",
          "text": [
            "100%|██████████| 4/4 [00:04<00:00,  1.03s/it]\n"
          ]
        },
        {
          "metadata": {
            "tags": null
          },
          "name": "stdout",
          "output_type": "stream",
          "text": [
            "\n",
            " 1.4463511109352112\n",
            "-----------------Epoch = 5-----------------\n"
          ]
        },
        {
          "metadata": {
            "tags": null
          },
          "name": "stderr",
          "output_type": "stream",
          "text": [
            "100%|██████████| 25/25 [00:30<00:00,  1.21s/it]\n"
          ]
        },
        {
          "metadata": {
            "tags": null
          },
          "name": "stdout",
          "output_type": "stream",
          "text": [
            "\n",
            " [epoch 5] loss: 1.377 elapsed time 30.235\n",
            "Validation loss: \n"
          ]
        },
        {
          "metadata": {
            "tags": null
          },
          "name": "stderr",
          "output_type": "stream",
          "text": [
            "100%|██████████| 4/4 [00:02<00:00,  1.45it/s]\n"
          ]
        },
        {
          "metadata": {
            "tags": null
          },
          "name": "stdout",
          "output_type": "stream",
          "text": [
            "\n",
            " 1.3487540781497955\n",
            "-----------------Epoch = 6-----------------\n"
          ]
        },
        {
          "metadata": {
            "tags": null
          },
          "name": "stderr",
          "output_type": "stream",
          "text": [
            "100%|██████████| 25/25 [00:31<00:00,  1.27s/it]\n"
          ]
        },
        {
          "metadata": {
            "tags": null
          },
          "name": "stdout",
          "output_type": "stream",
          "text": [
            "\n",
            " [epoch 6] loss: 1.341 elapsed time 31.765\n",
            "Validation loss: \n"
          ]
        },
        {
          "metadata": {
            "tags": null
          },
          "name": "stderr",
          "output_type": "stream",
          "text": [
            "100%|██████████| 4/4 [00:03<00:00,  1.09it/s]\n"
          ]
        },
        {
          "metadata": {
            "tags": null
          },
          "name": "stdout",
          "output_type": "stream",
          "text": [
            "\n",
            " 1.3419654071331024\n",
            "-----------------Epoch = 7-----------------\n"
          ]
        },
        {
          "metadata": {
            "tags": null
          },
          "name": "stderr",
          "output_type": "stream",
          "text": [
            "100%|██████████| 25/25 [00:30<00:00,  1.23s/it]\n"
          ]
        },
        {
          "metadata": {
            "tags": null
          },
          "name": "stdout",
          "output_type": "stream",
          "text": [
            "\n",
            " [epoch 7] loss: 1.340 elapsed time 30.772\n",
            "Validation loss: \n"
          ]
        },
        {
          "metadata": {
            "tags": null
          },
          "name": "stderr",
          "output_type": "stream",
          "text": [
            "100%|██████████| 4/4 [00:02<00:00,  1.66it/s]\n"
          ]
        },
        {
          "metadata": {
            "tags": null
          },
          "name": "stdout",
          "output_type": "stream",
          "text": [
            "\n",
            " 1.3412130177021027\n",
            "-----------------Epoch = 8-----------------\n"
          ]
        },
        {
          "metadata": {
            "tags": null
          },
          "name": "stderr",
          "output_type": "stream",
          "text": [
            "100%|██████████| 25/25 [00:33<00:00,  1.34s/it]\n"
          ]
        },
        {
          "metadata": {
            "tags": null
          },
          "name": "stdout",
          "output_type": "stream",
          "text": [
            "\n",
            " [epoch 8] loss: 1.339 elapsed time 33.616\n",
            "Validation loss: \n"
          ]
        },
        {
          "metadata": {
            "tags": null
          },
          "name": "stderr",
          "output_type": "stream",
          "text": [
            "100%|██████████| 4/4 [00:02<00:00,  1.66it/s]\n"
          ]
        },
        {
          "metadata": {
            "tags": null
          },
          "name": "stdout",
          "output_type": "stream",
          "text": [
            "\n",
            " 1.3404741287231445\n",
            "-----------------Epoch = 9-----------------\n"
          ]
        },
        {
          "metadata": {
            "tags": null
          },
          "name": "stderr",
          "output_type": "stream",
          "text": [
            "100%|██████████| 25/25 [00:29<00:00,  1.17s/it]\n"
          ]
        },
        {
          "metadata": {
            "tags": null
          },
          "name": "stdout",
          "output_type": "stream",
          "text": [
            "\n",
            " [epoch 9] loss: 1.338 elapsed time 29.165\n",
            "Validation loss: \n"
          ]
        },
        {
          "metadata": {
            "tags": null
          },
          "name": "stderr",
          "output_type": "stream",
          "text": [
            "100%|██████████| 4/4 [00:04<00:00,  1.03s/it]\n"
          ]
        },
        {
          "metadata": {
            "tags": null
          },
          "name": "stdout",
          "output_type": "stream",
          "text": [
            "\n",
            " 1.3389505743980408\n",
            "-----------------Epoch = 10-----------------\n"
          ]
        },
        {
          "metadata": {
            "tags": null
          },
          "name": "stderr",
          "output_type": "stream",
          "text": [
            "100%|██████████| 25/25 [00:30<00:00,  1.24s/it]\n"
          ]
        },
        {
          "metadata": {
            "tags": null
          },
          "name": "stdout",
          "output_type": "stream",
          "text": [
            "\n",
            " [epoch 10] loss: 1.336 elapsed time 30.970\n",
            "Validation loss: \n"
          ]
        },
        {
          "metadata": {
            "tags": null
          },
          "name": "stderr",
          "output_type": "stream",
          "text": [
            "100%|██████████| 4/4 [00:02<00:00,  1.92it/s]\n"
          ]
        },
        {
          "metadata": {
            "tags": null
          },
          "name": "stdout",
          "output_type": "stream",
          "text": [
            "\n",
            " 1.3355491757392883\n",
            "-----------------Epoch = 11-----------------\n"
          ]
        },
        {
          "metadata": {
            "tags": null
          },
          "name": "stderr",
          "output_type": "stream",
          "text": [
            "100%|██████████| 25/25 [00:29<00:00,  1.20s/it]\n"
          ]
        },
        {
          "metadata": {
            "tags": null
          },
          "name": "stdout",
          "output_type": "stream",
          "text": [
            "\n",
            " [epoch 11] loss: 1.331 elapsed time 29.997\n",
            "Validation loss: \n"
          ]
        },
        {
          "metadata": {
            "tags": null
          },
          "name": "stderr",
          "output_type": "stream",
          "text": [
            "100%|██████████| 4/4 [00:02<00:00,  1.38it/s]\n"
          ]
        },
        {
          "metadata": {
            "tags": null
          },
          "name": "stdout",
          "output_type": "stream",
          "text": [
            "\n",
            " 1.3287830352783203\n",
            "-----------------Epoch = 12-----------------\n"
          ]
        },
        {
          "metadata": {
            "tags": null
          },
          "name": "stderr",
          "output_type": "stream",
          "text": [
            "100%|██████████| 25/25 [00:30<00:00,  1.22s/it]\n"
          ]
        },
        {
          "metadata": {
            "tags": null
          },
          "name": "stdout",
          "output_type": "stream",
          "text": [
            "\n",
            " [epoch 12] loss: 1.322 elapsed time 30.522\n",
            "Validation loss: \n"
          ]
        },
        {
          "metadata": {
            "tags": null
          },
          "name": "stderr",
          "output_type": "stream",
          "text": [
            "100%|██████████| 4/4 [00:03<00:00,  1.16it/s]\n"
          ]
        },
        {
          "metadata": {
            "tags": null
          },
          "name": "stdout",
          "output_type": "stream",
          "text": [
            "\n",
            " 1.316413551568985\n",
            "-----------------Epoch = 13-----------------\n"
          ]
        },
        {
          "metadata": {
            "tags": null
          },
          "name": "stderr",
          "output_type": "stream",
          "text": [
            "100%|██████████| 25/25 [00:33<00:00,  1.32s/it]\n"
          ]
        },
        {
          "metadata": {
            "tags": null
          },
          "name": "stdout",
          "output_type": "stream",
          "text": [
            "\n",
            " [epoch 13] loss: 1.309 elapsed time 33.123\n",
            "Validation loss: \n"
          ]
        },
        {
          "metadata": {
            "tags": null
          },
          "name": "stderr",
          "output_type": "stream",
          "text": [
            "100%|██████████| 4/4 [00:02<00:00,  1.37it/s]\n"
          ]
        },
        {
          "metadata": {
            "tags": null
          },
          "name": "stdout",
          "output_type": "stream",
          "text": [
            "\n",
            " 1.30535489320755\n",
            "-----------------Epoch = 14-----------------\n"
          ]
        },
        {
          "metadata": {
            "tags": null
          },
          "name": "stderr",
          "output_type": "stream",
          "text": [
            "100%|██████████| 25/25 [00:29<00:00,  1.20s/it]\n"
          ]
        },
        {
          "metadata": {
            "tags": null
          },
          "name": "stdout",
          "output_type": "stream",
          "text": [
            "\n",
            " [epoch 14] loss: 1.289 elapsed time 29.993\n",
            "Validation loss: \n"
          ]
        },
        {
          "metadata": {
            "tags": null
          },
          "name": "stderr",
          "output_type": "stream",
          "text": [
            "100%|██████████| 4/4 [00:03<00:00,  1.21it/s]\n"
          ]
        },
        {
          "metadata": {
            "tags": null
          },
          "name": "stdout",
          "output_type": "stream",
          "text": [
            "\n",
            " 1.2802136540412903\n",
            "-----------------Epoch = 15-----------------\n"
          ]
        },
        {
          "metadata": {
            "tags": null
          },
          "name": "stderr",
          "output_type": "stream",
          "text": [
            "100%|██████████| 25/25 [00:27<00:00,  1.11s/it]\n"
          ]
        },
        {
          "metadata": {
            "tags": null
          },
          "name": "stdout",
          "output_type": "stream",
          "text": [
            "\n",
            " [epoch 15] loss: 1.307 elapsed time 27.648\n",
            "Validation loss: \n"
          ]
        },
        {
          "metadata": {
            "tags": null
          },
          "name": "stderr",
          "output_type": "stream",
          "text": [
            "100%|██████████| 4/4 [00:02<00:00,  1.47it/s]\n"
          ]
        },
        {
          "metadata": {
            "tags": null
          },
          "name": "stdout",
          "output_type": "stream",
          "text": [
            "\n",
            " 1.3128841519355774\n",
            "-----------------Epoch = 16-----------------\n"
          ]
        },
        {
          "metadata": {
            "tags": null
          },
          "name": "stderr",
          "output_type": "stream",
          "text": [
            "100%|██████████| 25/25 [00:30<00:00,  1.23s/it]\n"
          ]
        },
        {
          "metadata": {
            "tags": null
          },
          "name": "stdout",
          "output_type": "stream",
          "text": [
            "\n",
            " [epoch 16] loss: 1.290 elapsed time 30.833\n",
            "Validation loss: \n"
          ]
        },
        {
          "metadata": {
            "tags": null
          },
          "name": "stderr",
          "output_type": "stream",
          "text": [
            "100%|██████████| 4/4 [00:02<00:00,  1.85it/s]\n"
          ]
        },
        {
          "metadata": {
            "tags": null
          },
          "name": "stdout",
          "output_type": "stream",
          "text": [
            "\n",
            " 1.2727048695087433\n",
            "-----------------Epoch = 17-----------------\n"
          ]
        },
        {
          "metadata": {
            "tags": null
          },
          "name": "stderr",
          "output_type": "stream",
          "text": [
            "100%|██████████| 25/25 [00:29<00:00,  1.17s/it]\n"
          ]
        },
        {
          "metadata": {
            "tags": null
          },
          "name": "stdout",
          "output_type": "stream",
          "text": [
            "\n",
            " [epoch 17] loss: 1.277 elapsed time 29.361\n",
            "Validation loss: \n"
          ]
        },
        {
          "metadata": {
            "tags": null
          },
          "name": "stderr",
          "output_type": "stream",
          "text": [
            "100%|██████████| 4/4 [00:02<00:00,  1.71it/s]\n"
          ]
        },
        {
          "metadata": {
            "tags": null
          },
          "name": "stdout",
          "output_type": "stream",
          "text": [
            "\n",
            " 1.2852789163589478\n",
            "-----------------Epoch = 18-----------------\n"
          ]
        },
        {
          "metadata": {
            "tags": null
          },
          "name": "stderr",
          "output_type": "stream",
          "text": [
            "100%|██████████| 25/25 [00:33<00:00,  1.34s/it]\n"
          ]
        },
        {
          "metadata": {
            "tags": null
          },
          "name": "stdout",
          "output_type": "stream",
          "text": [
            "\n",
            " [epoch 18] loss: 1.259 elapsed time 33.568\n",
            "Validation loss: \n"
          ]
        },
        {
          "metadata": {
            "tags": null
          },
          "name": "stderr",
          "output_type": "stream",
          "text": [
            "100%|██████████| 4/4 [00:03<00:00,  1.23it/s]\n"
          ]
        },
        {
          "metadata": {
            "tags": null
          },
          "name": "stdout",
          "output_type": "stream",
          "text": [
            "\n",
            " 1.2259094417095184\n",
            "-----------------Epoch = 19-----------------\n"
          ]
        },
        {
          "metadata": {
            "tags": null
          },
          "name": "stderr",
          "output_type": "stream",
          "text": [
            "100%|██████████| 25/25 [00:30<00:00,  1.20s/it]\n"
          ]
        },
        {
          "metadata": {
            "tags": null
          },
          "name": "stdout",
          "output_type": "stream",
          "text": [
            "\n",
            " [epoch 19] loss: 1.254 elapsed time 30.071\n",
            "Validation loss: \n"
          ]
        },
        {
          "metadata": {
            "tags": null
          },
          "name": "stderr",
          "output_type": "stream",
          "text": [
            "100%|██████████| 4/4 [00:02<00:00,  1.65it/s]\n"
          ]
        },
        {
          "metadata": {
            "tags": null
          },
          "name": "stdout",
          "output_type": "stream",
          "text": [
            "\n",
            " 1.2200882136821747\n",
            "-----------------Epoch = 20-----------------\n"
          ]
        },
        {
          "metadata": {
            "tags": null
          },
          "name": "stderr",
          "output_type": "stream",
          "text": [
            "100%|██████████| 25/25 [00:29<00:00,  1.20s/it]\n"
          ]
        },
        {
          "metadata": {
            "tags": null
          },
          "name": "stdout",
          "output_type": "stream",
          "text": [
            "\n",
            " [epoch 20] loss: 1.248 elapsed time 29.889\n",
            "Validation loss: \n"
          ]
        },
        {
          "metadata": {
            "tags": null
          },
          "name": "stderr",
          "output_type": "stream",
          "text": [
            "100%|██████████| 4/4 [00:03<00:00,  1.20it/s]\n"
          ]
        },
        {
          "metadata": {
            "tags": null
          },
          "name": "stdout",
          "output_type": "stream",
          "text": [
            "\n",
            " 1.2125746011734009\n",
            "-----------------Epoch = 21-----------------\n"
          ]
        },
        {
          "metadata": {
            "tags": null
          },
          "name": "stderr",
          "output_type": "stream",
          "text": [
            "100%|██████████| 25/25 [00:33<00:00,  1.34s/it]\n"
          ]
        },
        {
          "metadata": {
            "tags": null
          },
          "name": "stdout",
          "output_type": "stream",
          "text": [
            "\n",
            " [epoch 21] loss: 1.239 elapsed time 33.434\n",
            "Validation loss: \n"
          ]
        },
        {
          "metadata": {
            "tags": null
          },
          "name": "stderr",
          "output_type": "stream",
          "text": [
            "100%|██████████| 4/4 [00:02<00:00,  1.71it/s]\n"
          ]
        },
        {
          "metadata": {
            "tags": null
          },
          "name": "stdout",
          "output_type": "stream",
          "text": [
            "\n",
            " 1.2070420682430267\n",
            "-----------------Epoch = 22-----------------\n"
          ]
        },
        {
          "metadata": {
            "tags": null
          },
          "name": "stderr",
          "output_type": "stream",
          "text": [
            "100%|██████████| 25/25 [00:29<00:00,  1.18s/it]\n"
          ]
        },
        {
          "metadata": {
            "tags": null
          },
          "name": "stdout",
          "output_type": "stream",
          "text": [
            "\n",
            " [epoch 22] loss: 1.236 elapsed time 29.469\n",
            "Validation loss: \n"
          ]
        },
        {
          "metadata": {
            "tags": null
          },
          "name": "stderr",
          "output_type": "stream",
          "text": [
            "100%|██████████| 4/4 [00:02<00:00,  1.42it/s]\n"
          ]
        },
        {
          "metadata": {
            "tags": null
          },
          "name": "stdout",
          "output_type": "stream",
          "text": [
            "\n",
            " 1.201067328453064\n",
            "-----------------Epoch = 23-----------------\n"
          ]
        },
        {
          "metadata": {
            "tags": null
          },
          "name": "stderr",
          "output_type": "stream",
          "text": [
            "100%|██████████| 25/25 [00:29<00:00,  1.19s/it]\n"
          ]
        },
        {
          "metadata": {
            "tags": null
          },
          "name": "stdout",
          "output_type": "stream",
          "text": [
            "\n",
            " [epoch 23] loss: 1.227 elapsed time 29.877\n",
            "Validation loss: \n"
          ]
        },
        {
          "metadata": {
            "tags": null
          },
          "name": "stderr",
          "output_type": "stream",
          "text": [
            "100%|██████████| 4/4 [00:02<00:00,  1.94it/s]\n"
          ]
        },
        {
          "metadata": {
            "tags": null
          },
          "name": "stdout",
          "output_type": "stream",
          "text": [
            "\n",
            " 1.1936783492565155\n",
            "-----------------Epoch = 24-----------------\n"
          ]
        },
        {
          "metadata": {
            "tags": null
          },
          "name": "stderr",
          "output_type": "stream",
          "text": [
            "100%|██████████| 25/25 [00:32<00:00,  1.28s/it]\n"
          ]
        },
        {
          "metadata": {
            "tags": null
          },
          "name": "stdout",
          "output_type": "stream",
          "text": [
            "\n",
            " [epoch 24] loss: 1.223 elapsed time 32.029\n",
            "Validation loss: \n"
          ]
        },
        {
          "metadata": {
            "tags": null
          },
          "name": "stderr",
          "output_type": "stream",
          "text": [
            "100%|██████████| 4/4 [00:02<00:00,  1.38it/s]\n"
          ]
        },
        {
          "metadata": {
            "tags": null
          },
          "name": "stdout",
          "output_type": "stream",
          "text": [
            "\n",
            " 1.1865901350975037\n",
            "-----------------Epoch = 25-----------------\n"
          ]
        },
        {
          "metadata": {
            "tags": null
          },
          "name": "stderr",
          "output_type": "stream",
          "text": [
            "100%|██████████| 25/25 [00:33<00:00,  1.33s/it]\n"
          ]
        },
        {
          "metadata": {
            "tags": null
          },
          "name": "stdout",
          "output_type": "stream",
          "text": [
            "\n",
            " [epoch 25] loss: 1.210 elapsed time 33.301\n",
            "Validation loss: \n"
          ]
        },
        {
          "metadata": {
            "tags": null
          },
          "name": "stderr",
          "output_type": "stream",
          "text": [
            "100%|██████████| 4/4 [00:02<00:00,  1.61it/s]\n"
          ]
        },
        {
          "metadata": {
            "tags": null
          },
          "name": "stdout",
          "output_type": "stream",
          "text": [
            "\n",
            " 1.1566626131534576\n",
            "-----------------Epoch = 26-----------------\n"
          ]
        },
        {
          "metadata": {
            "tags": null
          },
          "name": "stderr",
          "output_type": "stream",
          "text": [
            "100%|██████████| 25/25 [00:29<00:00,  1.18s/it]\n"
          ]
        },
        {
          "metadata": {
            "tags": null
          },
          "name": "stdout",
          "output_type": "stream",
          "text": [
            "\n",
            " [epoch 26] loss: 1.168 elapsed time 29.479\n",
            "Validation loss: \n"
          ]
        },
        {
          "metadata": {
            "tags": null
          },
          "name": "stderr",
          "output_type": "stream",
          "text": [
            "100%|██████████| 4/4 [00:03<00:00,  1.33it/s]\n"
          ]
        },
        {
          "metadata": {
            "tags": null
          },
          "name": "stdout",
          "output_type": "stream",
          "text": [
            "\n",
            " 1.1005544066429138\n",
            "-----------------Epoch = 27-----------------\n"
          ]
        },
        {
          "metadata": {
            "tags": null
          },
          "name": "stderr",
          "output_type": "stream",
          "text": [
            "100%|██████████| 25/25 [00:26<00:00,  1.08s/it]\n"
          ]
        },
        {
          "metadata": {
            "tags": null
          },
          "name": "stdout",
          "output_type": "stream",
          "text": [
            "\n",
            " [epoch 27] loss: 1.134 elapsed time 26.930\n",
            "Validation loss: \n"
          ]
        },
        {
          "metadata": {
            "tags": null
          },
          "name": "stderr",
          "output_type": "stream",
          "text": [
            "100%|██████████| 4/4 [00:02<00:00,  1.94it/s]\n"
          ]
        },
        {
          "metadata": {
            "tags": null
          },
          "name": "stdout",
          "output_type": "stream",
          "text": [
            "\n",
            " 1.0936565101146698\n",
            "-----------------Epoch = 28-----------------\n"
          ]
        },
        {
          "metadata": {
            "tags": null
          },
          "name": "stderr",
          "output_type": "stream",
          "text": [
            "100%|██████████| 25/25 [00:31<00:00,  1.25s/it]\n"
          ]
        },
        {
          "metadata": {
            "tags": null
          },
          "name": "stdout",
          "output_type": "stream",
          "text": [
            "\n",
            " [epoch 28] loss: 1.112 elapsed time 31.252\n",
            "Validation loss: \n"
          ]
        },
        {
          "metadata": {
            "tags": null
          },
          "name": "stderr",
          "output_type": "stream",
          "text": [
            "100%|██████████| 4/4 [00:02<00:00,  1.86it/s]\n"
          ]
        },
        {
          "metadata": {
            "tags": null
          },
          "name": "stdout",
          "output_type": "stream",
          "text": [
            "\n",
            " 1.0291066318750381\n",
            "-----------------Epoch = 29-----------------\n"
          ]
        },
        {
          "metadata": {
            "tags": null
          },
          "name": "stderr",
          "output_type": "stream",
          "text": [
            "100%|██████████| 25/25 [00:26<00:00,  1.04s/it]\n"
          ]
        },
        {
          "metadata": {
            "tags": null
          },
          "name": "stdout",
          "output_type": "stream",
          "text": [
            "\n",
            " [epoch 29] loss: 1.071 elapsed time 26.041\n",
            "Validation loss: \n"
          ]
        },
        {
          "metadata": {
            "tags": null
          },
          "name": "stderr",
          "output_type": "stream",
          "text": [
            "100%|██████████| 4/4 [00:01<00:00,  2.13it/s]\n"
          ]
        },
        {
          "metadata": {
            "tags": null
          },
          "name": "stdout",
          "output_type": "stream",
          "text": [
            "\n",
            " 1.0291711539030075\n",
            "-----------------Epoch = 30-----------------\n"
          ]
        },
        {
          "metadata": {
            "tags": null
          },
          "name": "stderr",
          "output_type": "stream",
          "text": [
            "100%|██████████| 25/25 [00:25<00:00,  1.02s/it]\n"
          ]
        },
        {
          "metadata": {
            "tags": null
          },
          "name": "stdout",
          "output_type": "stream",
          "text": [
            "\n",
            " [epoch 30] loss: 1.075 elapsed time 25.531\n",
            "Validation loss: \n"
          ]
        },
        {
          "metadata": {
            "tags": null
          },
          "name": "stderr",
          "output_type": "stream",
          "text": [
            "100%|██████████| 4/4 [00:02<00:00,  1.48it/s]\n"
          ]
        },
        {
          "metadata": {
            "tags": null
          },
          "name": "stdout",
          "output_type": "stream",
          "text": [
            "\n",
            " 1.0042747557163239\n",
            "-----------------Epoch = 31-----------------\n"
          ]
        },
        {
          "metadata": {
            "tags": null
          },
          "name": "stderr",
          "output_type": "stream",
          "text": [
            "100%|██████████| 25/25 [00:25<00:00,  1.03s/it]\n"
          ]
        },
        {
          "metadata": {
            "tags": null
          },
          "name": "stdout",
          "output_type": "stream",
          "text": [
            "\n",
            " [epoch 31] loss: 1.035 elapsed time 25.862\n",
            "Validation loss: \n"
          ]
        },
        {
          "metadata": {
            "tags": null
          },
          "name": "stderr",
          "output_type": "stream",
          "text": [
            "100%|██████████| 4/4 [00:02<00:00,  1.92it/s]\n"
          ]
        },
        {
          "metadata": {
            "tags": null
          },
          "name": "stdout",
          "output_type": "stream",
          "text": [
            "\n",
            " 0.9887195974588394\n",
            "-----------------Epoch = 32-----------------\n"
          ]
        },
        {
          "metadata": {
            "tags": null
          },
          "name": "stderr",
          "output_type": "stream",
          "text": [
            "100%|██████████| 25/25 [00:25<00:00,  1.01s/it]\n"
          ]
        },
        {
          "metadata": {
            "tags": null
          },
          "name": "stdout",
          "output_type": "stream",
          "text": [
            "\n",
            " [epoch 32] loss: 1.040 elapsed time 25.313\n",
            "Validation loss: \n"
          ]
        },
        {
          "metadata": {
            "tags": null
          },
          "name": "stderr",
          "output_type": "stream",
          "text": [
            "100%|██████████| 4/4 [00:01<00:00,  2.09it/s]\n"
          ]
        },
        {
          "metadata": {
            "tags": null
          },
          "name": "stdout",
          "output_type": "stream",
          "text": [
            "\n",
            " 0.9621179699897766\n",
            "-----------------Epoch = 33-----------------\n"
          ]
        },
        {
          "metadata": {
            "tags": null
          },
          "name": "stderr",
          "output_type": "stream",
          "text": [
            "100%|██████████| 25/25 [00:26<00:00,  1.05s/it]\n"
          ]
        },
        {
          "metadata": {
            "tags": null
          },
          "name": "stdout",
          "output_type": "stream",
          "text": [
            "\n",
            " [epoch 33] loss: 1.011 elapsed time 26.591\n",
            "Validation loss: \n"
          ]
        },
        {
          "metadata": {
            "tags": null
          },
          "name": "stderr",
          "output_type": "stream",
          "text": [
            "100%|██████████| 4/4 [00:01<00:00,  2.04it/s]\n"
          ]
        },
        {
          "metadata": {
            "tags": null
          },
          "name": "stdout",
          "output_type": "stream",
          "text": [
            "\n",
            " 0.9658568501472473\n",
            "-----------------Epoch = 34-----------------\n"
          ]
        },
        {
          "metadata": {
            "tags": null
          },
          "name": "stderr",
          "output_type": "stream",
          "text": [
            "100%|██████████| 25/25 [00:27<00:00,  1.10s/it]\n"
          ]
        },
        {
          "metadata": {
            "tags": null
          },
          "name": "stdout",
          "output_type": "stream",
          "text": [
            "\n",
            " [epoch 34] loss: 1.013 elapsed time 27.542\n",
            "Validation loss: \n"
          ]
        },
        {
          "metadata": {
            "tags": null
          },
          "name": "stderr",
          "output_type": "stream",
          "text": [
            "100%|██████████| 4/4 [00:01<00:00,  2.11it/s]\n"
          ]
        },
        {
          "metadata": {
            "tags": null
          },
          "name": "stdout",
          "output_type": "stream",
          "text": [
            "\n",
            " 0.9416786730289459\n",
            "-----------------Epoch = 35-----------------\n"
          ]
        },
        {
          "metadata": {
            "tags": null
          },
          "name": "stderr",
          "output_type": "stream",
          "text": [
            "100%|██████████| 25/25 [00:26<00:00,  1.06s/it]\n"
          ]
        },
        {
          "metadata": {
            "tags": null
          },
          "name": "stdout",
          "output_type": "stream",
          "text": [
            "\n",
            " [epoch 35] loss: 0.993 elapsed time 26.823\n",
            "Validation loss: \n"
          ]
        },
        {
          "metadata": {
            "tags": null
          },
          "name": "stderr",
          "output_type": "stream",
          "text": [
            "100%|██████████| 4/4 [00:01<00:00,  2.06it/s]\n"
          ]
        },
        {
          "metadata": {
            "tags": null
          },
          "name": "stdout",
          "output_type": "stream",
          "text": [
            "\n",
            " 0.9301923364400864\n",
            "-----------------Epoch = 36-----------------\n"
          ]
        },
        {
          "metadata": {
            "tags": null
          },
          "name": "stderr",
          "output_type": "stream",
          "text": [
            "100%|██████████| 25/25 [00:26<00:00,  1.05s/it]\n"
          ]
        },
        {
          "metadata": {
            "tags": null
          },
          "name": "stdout",
          "output_type": "stream",
          "text": [
            "\n",
            " [epoch 36] loss: 0.985 elapsed time 26.237\n",
            "Validation loss: \n"
          ]
        },
        {
          "metadata": {
            "tags": null
          },
          "name": "stderr",
          "output_type": "stream",
          "text": [
            "100%|██████████| 4/4 [00:01<00:00,  2.06it/s]\n"
          ]
        },
        {
          "metadata": {
            "tags": null
          },
          "name": "stdout",
          "output_type": "stream",
          "text": [
            "\n",
            " 0.9621185809373856\n",
            "-----------------Epoch = 37-----------------\n"
          ]
        },
        {
          "metadata": {
            "tags": null
          },
          "name": "stderr",
          "output_type": "stream",
          "text": [
            "100%|██████████| 25/25 [00:25<00:00,  1.01s/it]\n"
          ]
        },
        {
          "metadata": {
            "tags": null
          },
          "name": "stdout",
          "output_type": "stream",
          "text": [
            "\n",
            " [epoch 37] loss: 0.987 elapsed time 25.310\n",
            "Validation loss: \n"
          ]
        },
        {
          "metadata": {
            "tags": null
          },
          "name": "stderr",
          "output_type": "stream",
          "text": [
            "100%|██████████| 4/4 [00:02<00:00,  1.78it/s]\n"
          ]
        },
        {
          "metadata": {
            "tags": null
          },
          "name": "stdout",
          "output_type": "stream",
          "text": [
            "\n",
            " 0.9152327924966812\n",
            "-----------------Epoch = 38-----------------\n"
          ]
        },
        {
          "metadata": {
            "tags": null
          },
          "name": "stderr",
          "output_type": "stream",
          "text": [
            "100%|██████████| 25/25 [00:27<00:00,  1.10s/it]\n"
          ]
        },
        {
          "metadata": {
            "tags": null
          },
          "name": "stdout",
          "output_type": "stream",
          "text": [
            "\n",
            " [epoch 38] loss: 0.964 elapsed time 27.547\n",
            "Validation loss: \n"
          ]
        },
        {
          "metadata": {
            "tags": null
          },
          "name": "stderr",
          "output_type": "stream",
          "text": [
            "100%|██████████| 4/4 [00:01<00:00,  2.05it/s]\n"
          ]
        },
        {
          "metadata": {
            "tags": null
          },
          "name": "stdout",
          "output_type": "stream",
          "text": [
            "\n",
            " 0.9478364139795303\n",
            "-----------------Epoch = 39-----------------\n"
          ]
        },
        {
          "metadata": {
            "tags": null
          },
          "name": "stderr",
          "output_type": "stream",
          "text": [
            "100%|██████████| 25/25 [00:25<00:00,  1.00s/it]\n"
          ]
        },
        {
          "metadata": {
            "tags": null
          },
          "name": "stdout",
          "output_type": "stream",
          "text": [
            "\n",
            " [epoch 39] loss: 0.971 elapsed time 25.081\n",
            "Validation loss: \n"
          ]
        },
        {
          "metadata": {
            "tags": null
          },
          "name": "stderr",
          "output_type": "stream",
          "text": [
            "100%|██████████| 4/4 [00:02<00:00,  1.65it/s]\n"
          ]
        },
        {
          "metadata": {
            "tags": null
          },
          "name": "stdout",
          "output_type": "stream",
          "text": [
            "\n",
            " 0.902878075838089\n",
            "-----------------Epoch = 40-----------------\n"
          ]
        },
        {
          "metadata": {
            "tags": null
          },
          "name": "stderr",
          "output_type": "stream",
          "text": [
            "100%|██████████| 25/25 [00:25<00:00,  1.02s/it]\n"
          ]
        },
        {
          "metadata": {
            "tags": null
          },
          "name": "stdout",
          "output_type": "stream",
          "text": [
            "\n",
            " [epoch 40] loss: 0.953 elapsed time 25.553\n",
            "Validation loss: \n"
          ]
        },
        {
          "metadata": {
            "tags": null
          },
          "name": "stderr",
          "output_type": "stream",
          "text": [
            "100%|██████████| 4/4 [00:01<00:00,  2.13it/s]\n"
          ]
        },
        {
          "metadata": {
            "tags": null
          },
          "name": "stdout",
          "output_type": "stream",
          "text": [
            "\n",
            " 0.932295098900795\n",
            "-----------------Epoch = 41-----------------\n"
          ]
        },
        {
          "metadata": {
            "tags": null
          },
          "name": "stderr",
          "output_type": "stream",
          "text": [
            "100%|██████████| 25/25 [00:26<00:00,  1.04s/it]\n"
          ]
        },
        {
          "metadata": {
            "tags": null
          },
          "name": "stdout",
          "output_type": "stream",
          "text": [
            "\n",
            " [epoch 41] loss: 0.957 elapsed time 26.090\n",
            "Validation loss: \n"
          ]
        },
        {
          "metadata": {
            "tags": null
          },
          "name": "stderr",
          "output_type": "stream",
          "text": [
            "100%|██████████| 4/4 [00:02<00:00,  1.45it/s]\n"
          ]
        },
        {
          "metadata": {
            "tags": null
          },
          "name": "stdout",
          "output_type": "stream",
          "text": [
            "\n",
            " 0.8909352272748947\n",
            "-----------------Epoch = 42-----------------\n"
          ]
        },
        {
          "metadata": {
            "tags": null
          },
          "name": "stderr",
          "output_type": "stream",
          "text": [
            "100%|██████████| 25/25 [00:25<00:00,  1.01s/it]\n"
          ]
        },
        {
          "metadata": {
            "tags": null
          },
          "name": "stdout",
          "output_type": "stream",
          "text": [
            "\n",
            " [epoch 42] loss: 0.943 elapsed time 25.251\n",
            "Validation loss: \n"
          ]
        },
        {
          "metadata": {
            "tags": null
          },
          "name": "stderr",
          "output_type": "stream",
          "text": [
            "100%|██████████| 4/4 [00:02<00:00,  1.87it/s]\n"
          ]
        },
        {
          "metadata": {
            "tags": null
          },
          "name": "stdout",
          "output_type": "stream",
          "text": [
            "\n",
            " 0.9167186468839645\n",
            "-----------------Epoch = 43-----------------\n"
          ]
        },
        {
          "metadata": {
            "tags": null
          },
          "name": "stderr",
          "output_type": "stream",
          "text": [
            "100%|██████████| 25/25 [00:25<00:00,  1.03s/it]\n"
          ]
        },
        {
          "metadata": {
            "tags": null
          },
          "name": "stdout",
          "output_type": "stream",
          "text": [
            "\n",
            " [epoch 43] loss: 0.945 elapsed time 25.820\n",
            "Validation loss: \n"
          ]
        },
        {
          "metadata": {
            "tags": null
          },
          "name": "stderr",
          "output_type": "stream",
          "text": [
            "100%|██████████| 4/4 [00:01<00:00,  2.09it/s]\n"
          ]
        },
        {
          "metadata": {
            "tags": null
          },
          "name": "stdout",
          "output_type": "stream",
          "text": [
            "\n",
            " 0.8816559910774231\n",
            "-----------------Epoch = 44-----------------\n"
          ]
        },
        {
          "metadata": {
            "tags": null
          },
          "name": "stderr",
          "output_type": "stream",
          "text": [
            "100%|██████████| 25/25 [00:25<00:00,  1.01s/it]\n"
          ]
        },
        {
          "metadata": {
            "tags": null
          },
          "name": "stdout",
          "output_type": "stream",
          "text": [
            "\n",
            " [epoch 44] loss: 0.934 elapsed time 25.565\n",
            "Validation loss: \n"
          ]
        },
        {
          "metadata": {
            "tags": null
          },
          "name": "stderr",
          "output_type": "stream",
          "text": [
            "100%|██████████| 4/4 [00:01<00:00,  2.09it/s]\n"
          ]
        },
        {
          "metadata": {
            "tags": null
          },
          "name": "stdout",
          "output_type": "stream",
          "text": [
            "\n",
            " 0.9037948995828629\n",
            "-----------------Epoch = 45-----------------\n"
          ]
        },
        {
          "metadata": {
            "tags": null
          },
          "name": "stderr",
          "output_type": "stream",
          "text": [
            "100%|██████████| 25/25 [00:24<00:00,  1.01it/s]\n"
          ]
        },
        {
          "metadata": {
            "tags": null
          },
          "name": "stdout",
          "output_type": "stream",
          "text": [
            "\n",
            " [epoch 45] loss: 0.935 elapsed time 24.855\n",
            "Validation loss: \n"
          ]
        },
        {
          "metadata": {
            "tags": null
          },
          "name": "stderr",
          "output_type": "stream",
          "text": [
            "100%|██████████| 4/4 [00:01<00:00,  2.05it/s]\n"
          ]
        },
        {
          "metadata": {
            "tags": null
          },
          "name": "stdout",
          "output_type": "stream",
          "text": [
            "\n",
            " 0.8756645023822784\n",
            "-----------------Epoch = 46-----------------\n"
          ]
        },
        {
          "metadata": {
            "tags": null
          },
          "name": "stderr",
          "output_type": "stream",
          "text": [
            "100%|██████████| 25/25 [00:25<00:00,  1.02s/it]\n"
          ]
        },
        {
          "metadata": {
            "tags": null
          },
          "name": "stdout",
          "output_type": "stream",
          "text": [
            "\n",
            " [epoch 46] loss: 0.926 elapsed time 25.508\n",
            "Validation loss: \n"
          ]
        },
        {
          "metadata": {
            "tags": null
          },
          "name": "stderr",
          "output_type": "stream",
          "text": [
            "100%|██████████| 4/4 [00:02<00:00,  1.46it/s]\n"
          ]
        },
        {
          "metadata": {
            "tags": null
          },
          "name": "stdout",
          "output_type": "stream",
          "text": [
            "\n",
            " 0.8948971331119537\n",
            "-----------------Epoch = 47-----------------\n"
          ]
        },
        {
          "metadata": {
            "tags": null
          },
          "name": "stderr",
          "output_type": "stream",
          "text": [
            "100%|██████████| 25/25 [00:26<00:00,  1.05s/it]\n"
          ]
        },
        {
          "metadata": {
            "tags": null
          },
          "name": "stdout",
          "output_type": "stream",
          "text": [
            "\n",
            " [epoch 47] loss: 0.925 elapsed time 26.219\n",
            "Validation loss: \n"
          ]
        },
        {
          "metadata": {
            "tags": null
          },
          "name": "stderr",
          "output_type": "stream",
          "text": [
            "100%|██████████| 4/4 [00:01<00:00,  2.10it/s]\n"
          ]
        },
        {
          "metadata": {
            "tags": null
          },
          "name": "stdout",
          "output_type": "stream",
          "text": [
            "\n",
            " 0.8725011050701141\n",
            "-----------------Epoch = 48-----------------\n"
          ]
        },
        {
          "output_type": "stream",
          "name": "stderr",
          "text": [
            "100%|██████████| 25/25 [00:26<00:00,  1.04s/it]\n"
          ]
        },
        {
          "output_type": "stream",
          "name": "stdout",
          "text": [
            "\n",
            " [epoch 48] loss: 0.918 elapsed time 26.069\n",
            "Validation loss: \n"
          ]
        },
        {
          "output_type": "stream",
          "name": "stderr",
          "text": [
            "100%|██████████| 4/4 [00:02<00:00,  1.60it/s]\n"
          ]
        },
        {
          "output_type": "stream",
          "name": "stdout",
          "text": [
            "\n",
            " 0.8901776224374771\n",
            "-----------------Epoch = 49-----------------\n"
          ]
        },
        {
          "output_type": "stream",
          "name": "stderr",
          "text": [
            "100%|██████████| 25/25 [00:26<00:00,  1.06s/it]\n"
          ]
        },
        {
          "output_type": "stream",
          "name": "stdout",
          "text": [
            "\n",
            " [epoch 49] loss: 0.917 elapsed time 26.553\n",
            "Validation loss: \n"
          ]
        },
        {
          "output_type": "stream",
          "name": "stderr",
          "text": [
            "100%|██████████| 4/4 [00:01<00:00,  2.14it/s]\n"
          ]
        },
        {
          "output_type": "stream",
          "name": "stdout",
          "text": [
            "\n",
            " 0.8681924939155579\n",
            "-----------------Epoch = 50-----------------\n"
          ]
        },
        {
          "output_type": "stream",
          "name": "stderr",
          "text": [
            "100%|██████████| 25/25 [00:27<00:00,  1.08s/it]\n"
          ]
        },
        {
          "output_type": "stream",
          "name": "stdout",
          "text": [
            "\n",
            " [epoch 50] loss: 0.909 elapsed time 27.129\n",
            "Validation loss: \n"
          ]
        },
        {
          "output_type": "stream",
          "name": "stderr",
          "text": [
            "100%|██████████| 4/4 [00:02<00:00,  1.51it/s]\n"
          ]
        },
        {
          "output_type": "stream",
          "name": "stdout",
          "text": [
            "\n",
            " 0.8748568147420883\n"
          ]
        },
        {
          "output_type": "display_data",
          "data": {
            "text/plain": [
              "<Figure size 640x480 with 1 Axes>"
            ],
            "image/png": "[encoded data removed]"
          },
          "metadata": {}
        },
        {
          "output_type": "stream",
          "name": "stdout",
          "text": [
            "\n",
            "Finished Training, Testing on test set\n"
          ]
        },
        {
          "output_type": "stream",
          "name": "stderr",
          "text": [
            "100%|██████████| 114/114 [00:02<00:00, 46.02it/s]\n"
          ]
        },
        {
          "output_type": "stream",
          "name": "stdout",
          "text": [
            "\n",
            " 0.9106276168635017\n",
            "\n",
            "Generating Unlabeled Result\n"
          ]
        },
        {
          "output_type": "stream",
          "name": "stderr",
          "text": [
            "100%|██████████| 114/114 [00:10<00:00, 10.75it/s]\n",
            "100%|██████████| 114/114 [00:01<00:00, 83.92it/s]\n"
          ]
        },
        {
          "output_type": "stream",
          "name": "stdout",
          "text": [
            "AP = 0.523800987531587\n",
            "AP = 0.7236443652041791\n",
            "AP = 0.04364866098892022\n",
            "AP = 0.7793651072298734\n",
            "AP = 0.054823678457664025\n",
            "Average Precision (all classes) = 0.4250565598824448\n",
            "CPU times: user 22min 17s, sys: 7.03 s, total: 22min 24s\n",
            "Wall time: 26min 23s\n"
          ]
        }
      ],
      "source": [
        "%%time\n",
        "criterion = nn.CrossEntropyLoss()\n",
        "##############################################################################\n",
        "# TODO: Modify the lines below to experiment with different optimizers,      #\n",
        "# parameters (such as learning rate) and number of epochs.                   #\n",
        "##############################################################################\n",
        "optimizer = optim.SGD(net.parameters(), lr=0.001, momentum=0.9, weight_decay=1e-5)\n",
        "num_epoch = 50\n",
        "##############################################################################\n",
        "#                               END OF YOUR CODE                             #\n",
        "##############################################################################\n",
        "\n",
        "print('\\nStart training')\n",
        "trn_hist = []\n",
        "val_hist = []\n",
        "for epoch in range(num_epoch): #TODO: Change the number of epochs\n",
        "  print('-----------------Epoch = %d-----------------' % (epoch+1))\n",
        "  trn_loss = train(train_loader, net, criterion, optimizer, device, epoch+1)\n",
        "  print('Validation loss: ')\n",
        "  val_loss = test(val_loader, net, criterion, device)\n",
        "  trn_hist.append(trn_loss)\n",
        "  val_hist.append(val_loss)\n",
        "\n",
        "plot_hist(trn_hist, val_hist)\n",
        "##########################################################################\n",
        "# TODO: Submit the \"Average Precision(all classes)\" value in the report  #\n",
        "##########################################################################\n",
        "print('\\nFinished Training, Testing on test set')\n",
        "test(test_loader, net, criterion, device)\n",
        "print('\\nGenerating Unlabeled Result')\n",
        "##############################################################################\n",
        "# You can visualize your segmentation results using get_results function     #\n",
        "# Your result will be dumped in the folder 'output_test'.                    #\n",
        "# There will be three files for each image:                                   # \n",
        "#   (1) gt<num>.png (ground truth label)                                     #\n",
        "#   (2) x<num>.png (input RGB image)                                         #\n",
        "#   (3) y<num>.png (predicted output)                                        #\n",
        "#                                                                            #\n",
        "# TODO: Find a satisfactory result by running the next cell and report       #\n",
        "#       the plot of gt<num>.png, x<num>.png and y<num>.png in the pdf        #\n",
        "# Note: Your submission doesn't have to be perfect.                          #\n",
        "##############################################################################\n",
        "result = get_result(test_loader, net, device, folder='output_test')\n",
        "\n",
        "os.makedirs('./models', exist_ok=True)\n",
        "torch.save(net.state_dict(), './models/model_{}.pth'.format(name))\n",
        "\n",
        "cal_AP(ap_loader, net, criterion, device)"
      ]
    },
    {
      "cell_type": "markdown",
      "source": [],
      "metadata": {
        "id": "gHQcgEibuC_t"
      }
    },
    {
      "cell_type": "code",
      "execution_count": 30,
      "metadata": {
        "colab": {
          "base_uri": "https://localhost:8080/",
          "height": 440
        },
        "id": "XwYgDofP6bh9",
        "outputId": "a5b44b82-d125-4125-f97b-45e3affcd829"
      },
      "outputs": [
        {
          "output_type": "display_data",
          "data": {
            "text/plain": [
              "<Figure size 1800x1000 with 3 Axes>"
            ],
            "image/png": "[encoded data removed]"
          },
          "metadata": {}
        }
      ],
      "source": [
        "########################################################################\n",
        "# TODO: Find a satisfactory result from the 114 test images            #\n",
        "#       Submit the result in the pdf                                   #\n",
        "# Note: Your submission doesn't have to be perfect.                    #\n",
        "########################################################################\n",
        "img_idx = 1\n",
        "########################################################################\n",
        "#                             END OF YOUR CODE                         #\n",
        "########################################################################\n",
        "output_dir = 'output_test'\n",
        "\n",
        "plt.subplot(1, 3, 1)\n",
        "plt.imshow(Image.open(os.path.join(output_dir, 'x{}.png'.format(img_idx))))\n",
        "plt.title('Input Image', fontsize=16)\n",
        "plt.axis('off')\n",
        "\n",
        "plt.subplot(1, 3, 2)\n",
        "plt.imshow(Image.open(os.path.join(output_dir, 'gt{}.png'.format(img_idx))))\n",
        "plt.title('Ground Truth Segmentation Map', fontsize=16)\n",
        "plt.axis('off')\n",
        "\n",
        "plt.subplot(1, 3, 3)\n",
        "plt.imshow(Image.open(os.path.join(output_dir, 'y{}.png'.format(img_idx))))\n",
        "plt.title('Predicted Segmentation Map', fontsize=16)\n",
        "plt.axis('off')\n",
        "\n",
        "plt.gcf().set_size_inches(18, 10)\n",
        "plt.show()"
      ]
    },
    {
      "cell_type": "markdown",
      "metadata": {
        "id": "e8Bz6Ic8f1m-"
      },
      "source": [
        "## Acknowledgement\n",
        "The Mini Facade dataset are modified from CMP Facade Database by $Radim \\ Tyle \\check{c}ek$ and $Radim \\ \\check{S}a^{'}ra$. And the starter code are modified from EECS 442 taught by Professor  David Fouhey  from University of Michigan."
      ]
    },
    {
      "cell_type": "code",
      "source": [],
      "metadata": {
        "id": "crC4ANxc6Gae"
      },
      "execution_count": 23,
      "outputs": []
    }
  ],
  "metadata": {
    "accelerator": "GPU",
    "colab": {
      "provenance": [],
      "gpuType": "T4"
    },
    "gpuClass": "standard",
    "kernelspec": {
      "display_name": "Python 3",
      "name": "python3"
    },
    "language_info": {
      "name": "python"
    }
  },
  "nbformat": 4,
  "nbformat_minor": 0
}